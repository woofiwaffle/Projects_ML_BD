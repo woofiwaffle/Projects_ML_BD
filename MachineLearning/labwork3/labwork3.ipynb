{
 "cells": [
  {
   "cell_type": "markdown",
   "id": "38f99e0d3be5128c",
   "metadata": {},
   "source": [
    "# Лабораторная работа №3: Исследование алгоритмов классификации\n",
    "### Цель работы \n",
    "Изучение и сравнение алгоритмов классификации k-ближайших соседей (kNN) и дерева решений на примере датасета.\n",
    "\n",
    "#### В данной работе будут исследованы алгоритмы классификации, такие как:\n",
    "- kNN (k-ближайших соседей)\n",
    "- Дерево решений\n",
    "\n",
    "#### Задача заключается в том, чтобы оценить и сравнить результаты этих алгоритмов на реальных данных с использованием различных метрик, таких как:\n",
    "- Точность (Accuracy)\n",
    "- Precision, Recall, F1-мера\n",
    "- ROC-кривая\n",
    "\n",
    "#### Целевая переменная - это кластеры (Cluster), которые мы будем классифицировать.\n"
   ]
  },
  {
   "cell_type": "markdown",
   "id": "30728f41aa9c9fbc",
   "metadata": {},
   "source": [
    "### 1. Загрузка"
   ]
  },
  {
   "cell_type": "code",
   "execution_count": 1,
   "id": "initial_id",
   "metadata": {
    "ExecuteTime": {
     "end_time": "2024-09-24T16:58:06.045192Z",
     "start_time": "2024-09-24T16:58:06.020717Z"
    },
    "collapsed": true
   },
   "outputs": [
    {
     "data": {
      "text/html": [
       "<div>\n",
       "<style scoped>\n",
       "    .dataframe tbody tr th:only-of-type {\n",
       "        vertical-align: middle;\n",
       "    }\n",
       "\n",
       "    .dataframe tbody tr th {\n",
       "        vertical-align: top;\n",
       "    }\n",
       "\n",
       "    .dataframe thead th {\n",
       "        text-align: right;\n",
       "    }\n",
       "</style>\n",
       "<table border=\"1\" class=\"dataframe\">\n",
       "  <thead>\n",
       "    <tr style=\"text-align: right;\">\n",
       "      <th></th>\n",
       "      <th>Country</th>\n",
       "      <th>Talent</th>\n",
       "      <th>Infrastructure</th>\n",
       "      <th>Operating Environment</th>\n",
       "      <th>Research</th>\n",
       "      <th>Development</th>\n",
       "      <th>Government Strategy</th>\n",
       "      <th>Commercial</th>\n",
       "      <th>Total score</th>\n",
       "      <th>Region</th>\n",
       "      <th>Cluster</th>\n",
       "      <th>Income group</th>\n",
       "      <th>Political regime</th>\n",
       "    </tr>\n",
       "  </thead>\n",
       "  <tbody>\n",
       "    <tr>\n",
       "      <th>0</th>\n",
       "      <td>United States of America</td>\n",
       "      <td>100.00</td>\n",
       "      <td>94.02</td>\n",
       "      <td>64.56</td>\n",
       "      <td>100.00</td>\n",
       "      <td>100.00</td>\n",
       "      <td>77.39</td>\n",
       "      <td>100.00</td>\n",
       "      <td>100.00</td>\n",
       "      <td>Americas</td>\n",
       "      <td>Power players</td>\n",
       "      <td>High</td>\n",
       "      <td>Liberal democracy</td>\n",
       "    </tr>\n",
       "    <tr>\n",
       "      <th>1</th>\n",
       "      <td>China</td>\n",
       "      <td>16.51</td>\n",
       "      <td>100.00</td>\n",
       "      <td>91.57</td>\n",
       "      <td>71.42</td>\n",
       "      <td>79.97</td>\n",
       "      <td>94.87</td>\n",
       "      <td>44.02</td>\n",
       "      <td>62.92</td>\n",
       "      <td>Asia-Pacific</td>\n",
       "      <td>Power players</td>\n",
       "      <td>Upper middle</td>\n",
       "      <td>Closed autocracy</td>\n",
       "    </tr>\n",
       "    <tr>\n",
       "      <th>2</th>\n",
       "      <td>United Kingdom</td>\n",
       "      <td>39.65</td>\n",
       "      <td>71.43</td>\n",
       "      <td>74.65</td>\n",
       "      <td>36.50</td>\n",
       "      <td>25.03</td>\n",
       "      <td>82.82</td>\n",
       "      <td>18.91</td>\n",
       "      <td>40.93</td>\n",
       "      <td>Europe</td>\n",
       "      <td>Traditional champions</td>\n",
       "      <td>High</td>\n",
       "      <td>Liberal democracy</td>\n",
       "    </tr>\n",
       "    <tr>\n",
       "      <th>3</th>\n",
       "      <td>Canada</td>\n",
       "      <td>31.28</td>\n",
       "      <td>77.05</td>\n",
       "      <td>93.94</td>\n",
       "      <td>30.67</td>\n",
       "      <td>25.78</td>\n",
       "      <td>100.00</td>\n",
       "      <td>14.88</td>\n",
       "      <td>40.19</td>\n",
       "      <td>Americas</td>\n",
       "      <td>Traditional champions</td>\n",
       "      <td>High</td>\n",
       "      <td>Liberal democracy</td>\n",
       "    </tr>\n",
       "    <tr>\n",
       "      <th>4</th>\n",
       "      <td>Israel</td>\n",
       "      <td>35.76</td>\n",
       "      <td>67.58</td>\n",
       "      <td>82.44</td>\n",
       "      <td>32.63</td>\n",
       "      <td>27.96</td>\n",
       "      <td>43.91</td>\n",
       "      <td>27.33</td>\n",
       "      <td>39.89</td>\n",
       "      <td>Middle East</td>\n",
       "      <td>Rising stars</td>\n",
       "      <td>High</td>\n",
       "      <td>Liberal democracy</td>\n",
       "    </tr>\n",
       "  </tbody>\n",
       "</table>\n",
       "</div>"
      ],
      "text/plain": [
       "                    Country  Talent  Infrastructure  Operating Environment  \\\n",
       "0  United States of America  100.00           94.02                  64.56   \n",
       "1                     China   16.51          100.00                  91.57   \n",
       "2            United Kingdom   39.65           71.43                  74.65   \n",
       "3                    Canada   31.28           77.05                  93.94   \n",
       "4                    Israel   35.76           67.58                  82.44   \n",
       "\n",
       "   Research  Development  Government Strategy  Commercial  Total score  \\\n",
       "0    100.00       100.00                77.39      100.00       100.00   \n",
       "1     71.42        79.97                94.87       44.02        62.92   \n",
       "2     36.50        25.03                82.82       18.91        40.93   \n",
       "3     30.67        25.78               100.00       14.88        40.19   \n",
       "4     32.63        27.96                43.91       27.33        39.89   \n",
       "\n",
       "         Region                Cluster  Income group   Political regime  \n",
       "0      Americas          Power players          High  Liberal democracy  \n",
       "1  Asia-Pacific          Power players  Upper middle   Closed autocracy  \n",
       "2        Europe  Traditional champions          High  Liberal democracy  \n",
       "3      Americas  Traditional champions          High  Liberal democracy  \n",
       "4   Middle East           Rising stars          High  Liberal democracy  "
      ]
     },
     "execution_count": 1,
     "metadata": {},
     "output_type": "execute_result"
    }
   ],
   "source": [
    "import pandas as pd\n",
    "import numpy as np\n",
    "import matplotlib.pyplot as plt\n",
    "import seaborn as sns\n",
    "from sklearn.model_selection import train_test_split\n",
    "from sklearn.preprocessing import StandardScaler\n",
    "from sklearn.metrics import accuracy_score, precision_score, recall_score, f1_score, roc_curve, auc\n",
    "from sklearn.metrics import roc_auc_score, classification_report, confusion_matrix\n",
    "from sklearn.neighbors import KNeighborsClassifier\n",
    "from sklearn.tree import DecisionTreeClassifier\n",
    "\n",
    "data = pd.read_csv('AI_index_db.csv')\n",
    "\n",
    "data.head()"
   ]
  },
  {
   "cell_type": "markdown",
   "id": "124912d10607ad88",
   "metadata": {},
   "source": [
    "### 2. Разделение данных на обучающую и тестовую выборки"
   ]
  },
  {
   "cell_type": "code",
   "execution_count": 11,
   "id": "8dc10b1ce74d31b6",
   "metadata": {
    "ExecuteTime": {
     "end_time": "2024-09-24T17:07:18.045544Z",
     "start_time": "2024-09-24T17:07:18.038472Z"
    }
   },
   "outputs": [],
   "source": [
    "X = data[['Research', 'Talent', 'Development', 'Infrastructure', 'Operating Environment', 'Government Strategy', 'Commercial']]\n",
    "y = data['Cluster']  \n",
    "\n",
    "X_train, X_test, y_train, y_test = train_test_split(X, y, test_size=0.3, random_state=42)\n",
    "\n",
    "scaler = StandardScaler()\n",
    "X_train_scaled = scaler.fit_transform(X_train)\n",
    "X_test_scaled = scaler.transform(X_test)"
   ]
  },
  {
   "cell_type": "markdown",
   "id": "e3cb395bf7b3ea3e",
   "metadata": {},
   "source": [
    "### 3. Обучение моделей"
   ]
  },
  {
   "cell_type": "code",
   "execution_count": 16,
   "id": "4dcbbd1d8a9320e3",
   "metadata": {
    "ExecuteTime": {
     "end_time": "2024-09-24T17:08:10.513610Z",
     "start_time": "2024-09-24T17:08:10.508020Z"
    }
   },
   "outputs": [],
   "source": [
    "# Модель k-ближайших соседей (kNN)\n",
    "knn = KNeighborsClassifier(n_neighbors=5)\n",
    "knn.fit(X_train_scaled, y_train)\n",
    "\n",
    "y_pred_knn = knn.predict(X_test_scaled)"
   ]
  },
  {
   "cell_type": "code",
   "execution_count": 17,
   "id": "7b3b7ee19c139296",
   "metadata": {
    "ExecuteTime": {
     "end_time": "2024-09-24T17:08:11.583828Z",
     "start_time": "2024-09-24T17:08:11.577769Z"
    }
   },
   "outputs": [],
   "source": [
    "# Модель дерева решений\n",
    "tree = DecisionTreeClassifier(random_state=42)\n",
    "tree.fit(X_train, y_train)\n",
    "\n",
    "y_pred_tree = tree.predict(X_test)"
   ]
  },
  {
   "cell_type": "markdown",
   "id": "e4b75a1d2f8c77cc",
   "metadata": {},
   "source": [
    "### 4. Оценка качества моделей"
   ]
  },
  {
   "cell_type": "code",
   "execution_count": 19,
   "id": "24dcb899be3add9",
   "metadata": {
    "ExecuteTime": {
     "end_time": "2024-09-24T17:10:23.049258Z",
     "start_time": "2024-09-24T17:10:23.041110Z"
    }
   },
   "outputs": [
    {
     "name": "stdout",
     "output_type": "stream",
     "text": [
      "kNN Classifier Results:\n",
      "Accuracy: 0.631578947368421\n",
      "Precision: 0.8357142857142857\n",
      "Recall: 0.32999999999999996\n",
      "F1-score: 0.27272727272727276\n"
     ]
    }
   ],
   "source": [
    "# Метрики оценки качества для kNN\n",
    "print(\"kNN Classifier Results:\")\n",
    "print(\"Accuracy:\", accuracy_score(y_test, y_pred_knn))\n",
    "print(\"Precision:\", precision_score(y_test, y_pred_knn, average='macro', zero_division=1))\n",
    "print(\"Recall:\", recall_score(y_test, y_pred_knn, average='macro', zero_division=1))\n",
    "print(\"F1-score:\", f1_score(y_test, y_pred_knn, average='macro', zero_division=1))"
   ]
  },
  {
   "cell_type": "code",
   "execution_count": 20,
   "id": "274470e03f127b2b",
   "metadata": {
    "ExecuteTime": {
     "end_time": "2024-09-24T17:10:44.452977Z",
     "start_time": "2024-09-24T17:10:44.443873Z"
    }
   },
   "outputs": [
    {
     "name": "stdout",
     "output_type": "stream",
     "text": [
      "\n",
      "Decision Tree Classifier Results:\n",
      "Accuracy: 0.5263157894736842\n",
      "Precision: 0.4888888888888888\n",
      "Recall: 0.54\n",
      "F1-score: 0.5073684210526316\n"
     ]
    }
   ],
   "source": [
    "# Метрики оценки качества для дерева решений\n",
    "print(\"\\nDecision Tree Classifier Results:\")\n",
    "print(\"Accuracy:\", accuracy_score(y_test, y_pred_tree))\n",
    "print(\"Precision:\", precision_score(y_test, y_pred_tree, average='macro', zero_division=1))\n",
    "print(\"Recall:\", recall_score(y_test, y_pred_tree, average='macro', zero_division=1))\n",
    "print(\"F1-score:\", f1_score(y_test, y_pred_tree, average='macro', zero_division=1))"
   ]
  },
  {
   "cell_type": "markdown",
   "id": "453908582c1c3e43",
   "metadata": {},
   "source": [
    "### 5. Визуализация матрицы ошибок"
   ]
  },
  {
   "cell_type": "code",
   "execution_count": 21,
   "id": "196ddd4a6168186b",
   "metadata": {
    "ExecuteTime": {
     "end_time": "2024-09-24T17:11:23.723969Z",
     "start_time": "2024-09-24T17:11:23.352266Z"
    }
   },
   "outputs": [
    {
     "data": {
      "image/png": "[encoded data removed]",
      "text/plain": [
       "<Figure size 1400x600 with 4 Axes>"
      ]
     },
     "metadata": {},
     "output_type": "display_data"
    }
   ],
   "source": [
    "conf_matrix_knn = confusion_matrix(y_test, y_pred_knn)\n",
    "conf_matrix_tree = confusion_matrix(y_test, y_pred_tree)\n",
    "\n",
    "fig, ax = plt.subplots(1, 2, figsize=(14, 6))\n",
    "\n",
    "sns.heatmap(conf_matrix_knn, annot=True, fmt=\"d\", cmap=\"Blues\", ax=ax[0])\n",
    "ax[0].set_title('Confusion Matrix for kNN')\n",
    "ax[0].set_xlabel('Predicted')\n",
    "ax[0].set_ylabel('True')\n",
    "\n",
    "sns.heatmap(conf_matrix_tree, annot=True, fmt=\"d\", cmap=\"Blues\", ax=ax[1])\n",
    "ax[1].set_title('Confusion Matrix for Decision Tree')\n",
    "ax[1].set_xlabel('Predicted')\n",
    "ax[1].set_ylabel('True')\n",
    "\n",
    "plt.show()\n"
   ]
  },
  {
   "cell_type": "markdown",
   "id": "8398df7ad2661ee8",
   "metadata": {},
   "source": [
    "### 6. ROC-AUC для дерева решений"
   ]
  },
  {
   "cell_type": "code",
   "execution_count": 22,
   "id": "782a7754d374d2ab",
   "metadata": {
    "ExecuteTime": {
     "end_time": "2024-09-24T17:11:48.920350Z",
     "start_time": "2024-09-24T17:11:48.911732Z"
    }
   },
   "outputs": [
    {
     "name": "stdout",
     "output_type": "stream",
     "text": [
      "\n",
      "ROC AUC for Decision Tree: 0.7034640522875817\n"
     ]
    }
   ],
   "source": [
    "roc_auc_tree = roc_auc_score(y_test, tree.predict_proba(X_test), multi_class='ovr')\n",
    "print(\"\\nROC AUC for Decision Tree:\", roc_auc_tree)"
   ]
  }
 ],
 "metadata": {
  "kernelspec": {
   "display_name": ".venv",
   "language": "python",
   "name": "python3"
  },
  "language_info": {
   "codemirror_mode": {
    "name": "ipython",
    "version": 3
   },
   "file_extension": ".py",
   "mimetype": "text/x-python",
   "name": "python",
   "nbconvert_exporter": "python",
   "pygments_lexer": "ipython3",
   "version": "3.12.3"
  }
 },
 "nbformat": 4,
 "nbformat_minor": 5
}
