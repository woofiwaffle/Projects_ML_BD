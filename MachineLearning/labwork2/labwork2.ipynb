{
 "cells": [
  {
   "cell_type": "markdown",
   "id": "8b2de66f1e4ce883",
   "metadata": {},
   "source": [
    "# Лабораторная работа №2: Кластеризация методом K-means\n",
    "\n",
    "### Цель работы\n",
    "Цель данной лабораторной работы — ознакомиться с методом кластеризации K-means на примере набора данных о глобальном индексе искусственного интеллекта. \n",
    "\n",
    "#### В ходе выполнения работы мы:\n",
    "- Добавим новый атрибут к набору данных.\n",
    "- Проведем очистку данных от выбросов и дубликатов.\n",
    "- Построим графики рассеивания для визуализации группировок данных.\n",
    "- Применим метод K-means для кластеризации данных и сделаем выводы по результатам."
   ]
  },
  {
   "cell_type": "markdown",
   "id": "ff96df353fe78040",
   "metadata": {},
   "source": [
    "### 1. Загрузка"
   ]
  },
  {
   "cell_type": "code",
   "execution_count": 1,
   "id": "3c3707751e1ab36b",
   "metadata": {
    "ExecuteTime": {
     "end_time": "2024-09-18T10:21:55.374524Z",
     "start_time": "2024-09-18T10:21:55.359592Z"
    }
   },
   "outputs": [
    {
     "data": {
      "text/html": [
       "<div>\n",
       "<style scoped>\n",
       "    .dataframe tbody tr th:only-of-type {\n",
       "        vertical-align: middle;\n",
       "    }\n",
       "\n",
       "    .dataframe tbody tr th {\n",
       "        vertical-align: top;\n",
       "    }\n",
       "\n",
       "    .dataframe thead th {\n",
       "        text-align: right;\n",
       "    }\n",
       "</style>\n",
       "<table border=\"1\" class=\"dataframe\">\n",
       "  <thead>\n",
       "    <tr style=\"text-align: right;\">\n",
       "      <th></th>\n",
       "      <th>Country</th>\n",
       "      <th>Talent</th>\n",
       "      <th>Infrastructure</th>\n",
       "      <th>Operating Environment</th>\n",
       "      <th>Research</th>\n",
       "      <th>Development</th>\n",
       "      <th>Government Strategy</th>\n",
       "      <th>Commercial</th>\n",
       "      <th>Total score</th>\n",
       "      <th>Region</th>\n",
       "      <th>Cluster</th>\n",
       "      <th>Income group</th>\n",
       "      <th>Political regime</th>\n",
       "    </tr>\n",
       "  </thead>\n",
       "  <tbody>\n",
       "    <tr>\n",
       "      <th>0</th>\n",
       "      <td>United States of America</td>\n",
       "      <td>100.00</td>\n",
       "      <td>94.02</td>\n",
       "      <td>64.56</td>\n",
       "      <td>100.00</td>\n",
       "      <td>100.00</td>\n",
       "      <td>77.39</td>\n",
       "      <td>100.00</td>\n",
       "      <td>100.00</td>\n",
       "      <td>Americas</td>\n",
       "      <td>Power players</td>\n",
       "      <td>High</td>\n",
       "      <td>Liberal democracy</td>\n",
       "    </tr>\n",
       "    <tr>\n",
       "      <th>1</th>\n",
       "      <td>China</td>\n",
       "      <td>16.51</td>\n",
       "      <td>100.00</td>\n",
       "      <td>91.57</td>\n",
       "      <td>71.42</td>\n",
       "      <td>79.97</td>\n",
       "      <td>94.87</td>\n",
       "      <td>44.02</td>\n",
       "      <td>62.92</td>\n",
       "      <td>Asia-Pacific</td>\n",
       "      <td>Power players</td>\n",
       "      <td>Upper middle</td>\n",
       "      <td>Closed autocracy</td>\n",
       "    </tr>\n",
       "    <tr>\n",
       "      <th>2</th>\n",
       "      <td>United Kingdom</td>\n",
       "      <td>39.65</td>\n",
       "      <td>71.43</td>\n",
       "      <td>74.65</td>\n",
       "      <td>36.50</td>\n",
       "      <td>25.03</td>\n",
       "      <td>82.82</td>\n",
       "      <td>18.91</td>\n",
       "      <td>40.93</td>\n",
       "      <td>Europe</td>\n",
       "      <td>Traditional champions</td>\n",
       "      <td>High</td>\n",
       "      <td>Liberal democracy</td>\n",
       "    </tr>\n",
       "    <tr>\n",
       "      <th>3</th>\n",
       "      <td>Canada</td>\n",
       "      <td>31.28</td>\n",
       "      <td>77.05</td>\n",
       "      <td>93.94</td>\n",
       "      <td>30.67</td>\n",
       "      <td>25.78</td>\n",
       "      <td>100.00</td>\n",
       "      <td>14.88</td>\n",
       "      <td>40.19</td>\n",
       "      <td>Americas</td>\n",
       "      <td>Traditional champions</td>\n",
       "      <td>High</td>\n",
       "      <td>Liberal democracy</td>\n",
       "    </tr>\n",
       "    <tr>\n",
       "      <th>4</th>\n",
       "      <td>Israel</td>\n",
       "      <td>35.76</td>\n",
       "      <td>67.58</td>\n",
       "      <td>82.44</td>\n",
       "      <td>32.63</td>\n",
       "      <td>27.96</td>\n",
       "      <td>43.91</td>\n",
       "      <td>27.33</td>\n",
       "      <td>39.89</td>\n",
       "      <td>Middle East</td>\n",
       "      <td>Rising stars</td>\n",
       "      <td>High</td>\n",
       "      <td>Liberal democracy</td>\n",
       "    </tr>\n",
       "  </tbody>\n",
       "</table>\n",
       "</div>"
      ],
      "text/plain": [
       "                    Country  Talent  Infrastructure  Operating Environment  \\\n",
       "0  United States of America  100.00           94.02                  64.56   \n",
       "1                     China   16.51          100.00                  91.57   \n",
       "2            United Kingdom   39.65           71.43                  74.65   \n",
       "3                    Canada   31.28           77.05                  93.94   \n",
       "4                    Israel   35.76           67.58                  82.44   \n",
       "\n",
       "   Research  Development  Government Strategy  Commercial  Total score  \\\n",
       "0    100.00       100.00                77.39      100.00       100.00   \n",
       "1     71.42        79.97                94.87       44.02        62.92   \n",
       "2     36.50        25.03                82.82       18.91        40.93   \n",
       "3     30.67        25.78               100.00       14.88        40.19   \n",
       "4     32.63        27.96                43.91       27.33        39.89   \n",
       "\n",
       "         Region                Cluster  Income group   Political regime  \n",
       "0      Americas          Power players          High  Liberal democracy  \n",
       "1  Asia-Pacific          Power players  Upper middle   Closed autocracy  \n",
       "2        Europe  Traditional champions          High  Liberal democracy  \n",
       "3      Americas  Traditional champions          High  Liberal democracy  \n",
       "4   Middle East           Rising stars          High  Liberal democracy  "
      ]
     },
     "execution_count": 1,
     "metadata": {},
     "output_type": "execute_result"
    }
   ],
   "source": [
    "import pandas as pd\n",
    "import numpy as np\n",
    "import matplotlib.pyplot as plt\n",
    "import seaborn as sns\n",
    "from sklearn.cluster import KMeans\n",
    "from sklearn.preprocessing import StandardScaler\n",
    "\n",
    "data = pd.read_csv('AI_index_db.csv')  \n",
    "data.head()"
   ]
  },
  {
   "cell_type": "markdown",
   "id": "5794c16f22905128",
   "metadata": {},
   "source": [
    "### 2. Добавление нового атрибута\n",
    "Добавим новый атрибут. Создадим столбец AI Influence, который является линейной комбинацией нескольких показателей Research, Talent и Development."
   ]
  },
  {
   "cell_type": "code",
   "execution_count": 17,
   "id": "46066b8da3c22125",
   "metadata": {
    "ExecuteTime": {
     "end_time": "2024-09-18T10:24:09.472726Z",
     "start_time": "2024-09-18T10:24:09.461418Z"
    }
   },
   "outputs": [
    {
     "data": {
      "text/html": [
       "<div>\n",
       "<style scoped>\n",
       "    .dataframe tbody tr th:only-of-type {\n",
       "        vertical-align: middle;\n",
       "    }\n",
       "\n",
       "    .dataframe tbody tr th {\n",
       "        vertical-align: top;\n",
       "    }\n",
       "\n",
       "    .dataframe thead th {\n",
       "        text-align: right;\n",
       "    }\n",
       "</style>\n",
       "<table border=\"1\" class=\"dataframe\">\n",
       "  <thead>\n",
       "    <tr style=\"text-align: right;\">\n",
       "      <th></th>\n",
       "      <th>Country</th>\n",
       "      <th>Talent</th>\n",
       "      <th>Infrastructure</th>\n",
       "      <th>Operating Environment</th>\n",
       "      <th>Research</th>\n",
       "      <th>Development</th>\n",
       "      <th>Government Strategy</th>\n",
       "      <th>Commercial</th>\n",
       "      <th>Total score</th>\n",
       "      <th>Region</th>\n",
       "      <th>Cluster</th>\n",
       "      <th>Income group</th>\n",
       "      <th>Political regime</th>\n",
       "      <th>AI Influence</th>\n",
       "    </tr>\n",
       "  </thead>\n",
       "  <tbody>\n",
       "    <tr>\n",
       "      <th>0</th>\n",
       "      <td>United States of America</td>\n",
       "      <td>100.00</td>\n",
       "      <td>94.02</td>\n",
       "      <td>64.56</td>\n",
       "      <td>100.00</td>\n",
       "      <td>100.00</td>\n",
       "      <td>77.39</td>\n",
       "      <td>100.00</td>\n",
       "      <td>100.00</td>\n",
       "      <td>Americas</td>\n",
       "      <td>Power players</td>\n",
       "      <td>High</td>\n",
       "      <td>Liberal democracy</td>\n",
       "      <td>100.000000</td>\n",
       "    </tr>\n",
       "    <tr>\n",
       "      <th>1</th>\n",
       "      <td>China</td>\n",
       "      <td>16.51</td>\n",
       "      <td>100.00</td>\n",
       "      <td>91.57</td>\n",
       "      <td>71.42</td>\n",
       "      <td>79.97</td>\n",
       "      <td>94.87</td>\n",
       "      <td>44.02</td>\n",
       "      <td>62.92</td>\n",
       "      <td>Asia-Pacific</td>\n",
       "      <td>Power players</td>\n",
       "      <td>Upper middle</td>\n",
       "      <td>Closed autocracy</td>\n",
       "      <td>55.966667</td>\n",
       "    </tr>\n",
       "    <tr>\n",
       "      <th>2</th>\n",
       "      <td>United Kingdom</td>\n",
       "      <td>39.65</td>\n",
       "      <td>71.43</td>\n",
       "      <td>74.65</td>\n",
       "      <td>36.50</td>\n",
       "      <td>25.03</td>\n",
       "      <td>82.82</td>\n",
       "      <td>18.91</td>\n",
       "      <td>40.93</td>\n",
       "      <td>Europe</td>\n",
       "      <td>Traditional champions</td>\n",
       "      <td>High</td>\n",
       "      <td>Liberal democracy</td>\n",
       "      <td>33.726667</td>\n",
       "    </tr>\n",
       "    <tr>\n",
       "      <th>3</th>\n",
       "      <td>Canada</td>\n",
       "      <td>31.28</td>\n",
       "      <td>77.05</td>\n",
       "      <td>93.94</td>\n",
       "      <td>30.67</td>\n",
       "      <td>25.78</td>\n",
       "      <td>100.00</td>\n",
       "      <td>14.88</td>\n",
       "      <td>40.19</td>\n",
       "      <td>Americas</td>\n",
       "      <td>Traditional champions</td>\n",
       "      <td>High</td>\n",
       "      <td>Liberal democracy</td>\n",
       "      <td>29.243333</td>\n",
       "    </tr>\n",
       "    <tr>\n",
       "      <th>4</th>\n",
       "      <td>Israel</td>\n",
       "      <td>35.76</td>\n",
       "      <td>67.58</td>\n",
       "      <td>82.44</td>\n",
       "      <td>32.63</td>\n",
       "      <td>27.96</td>\n",
       "      <td>43.91</td>\n",
       "      <td>27.33</td>\n",
       "      <td>39.89</td>\n",
       "      <td>Middle East</td>\n",
       "      <td>Rising stars</td>\n",
       "      <td>High</td>\n",
       "      <td>Liberal democracy</td>\n",
       "      <td>32.116667</td>\n",
       "    </tr>\n",
       "  </tbody>\n",
       "</table>\n",
       "</div>"
      ],
      "text/plain": [
       "                    Country  Talent  Infrastructure  Operating Environment  \\\n",
       "0  United States of America  100.00           94.02                  64.56   \n",
       "1                     China   16.51          100.00                  91.57   \n",
       "2            United Kingdom   39.65           71.43                  74.65   \n",
       "3                    Canada   31.28           77.05                  93.94   \n",
       "4                    Israel   35.76           67.58                  82.44   \n",
       "\n",
       "   Research  Development  Government Strategy  Commercial  Total score  \\\n",
       "0    100.00       100.00                77.39      100.00       100.00   \n",
       "1     71.42        79.97                94.87       44.02        62.92   \n",
       "2     36.50        25.03                82.82       18.91        40.93   \n",
       "3     30.67        25.78               100.00       14.88        40.19   \n",
       "4     32.63        27.96                43.91       27.33        39.89   \n",
       "\n",
       "         Region                Cluster  Income group   Political regime  \\\n",
       "0      Americas          Power players          High  Liberal democracy   \n",
       "1  Asia-Pacific          Power players  Upper middle   Closed autocracy   \n",
       "2        Europe  Traditional champions          High  Liberal democracy   \n",
       "3      Americas  Traditional champions          High  Liberal democracy   \n",
       "4   Middle East           Rising stars          High  Liberal democracy   \n",
       "\n",
       "   AI Influence  \n",
       "0    100.000000  \n",
       "1     55.966667  \n",
       "2     33.726667  \n",
       "3     29.243333  \n",
       "4     32.116667  "
      ]
     },
     "execution_count": 17,
     "metadata": {},
     "output_type": "execute_result"
    }
   ],
   "source": [
    "data['AI Influence'] = data[['Research', 'Talent', 'Development']].mean(axis=1)\n",
    "\n",
    "data.head()"
   ]
  },
  {
   "cell_type": "markdown",
   "id": "d489840361e7cd4b",
   "metadata": {},
   "source": [
    "### 3. Преобработка данных\n",
    "* В данных нет пропущенных значений, так как в ходе предварительного анализа из Первой Работы было установлено, что все значения присутствуют.\n",
    "* Для выявления и удаления выбросов используем межквартильный размах (IQR)."
   ]
  },
  {
   "cell_type": "code",
   "execution_count": 22,
   "id": "4ac87905e0c9089f",
   "metadata": {
    "ExecuteTime": {
     "end_time": "2024-09-18T10:29:38.019067Z",
     "start_time": "2024-09-18T10:29:38.010531Z"
    }
   },
   "outputs": [
    {
     "name": "stdout",
     "output_type": "stream",
     "text": [
      "Размер данных после очистки: (50, 14)\n"
     ]
    }
   ],
   "source": [
    "# Удаление дубликатов\n",
    "data.drop_duplicates(inplace=True)\n",
    "\n",
    "# IQR\n",
    "numeric_cols = data.select_dtypes(include=['float64']).columns\n",
    "Q1 = data[numeric_cols].quantile(0.25)\n",
    "Q3 = data[numeric_cols].quantile(0.75)\n",
    "IQR = Q3 - Q1\n",
    "\n",
    "# Удаление выбросов\n",
    "data_clean = data[~((data[numeric_cols] < (Q1 - 1.5 * IQR)) | (data[numeric_cols] > (Q3 + 1.5 * IQR))).any(axis=1)]\n",
    "\n",
    "print(f'Размер данных после очистки: {data_clean.shape}')"
   ]
  },
  {
   "cell_type": "markdown",
   "id": "529a911765cd8b88",
   "metadata": {},
   "source": [
    "### 4. Стандартизация данных\n",
    "Для алгоритма K-means важна шкала значений, поэтому перед кластеризацией масштабируем данные."
   ]
  },
  {
   "cell_type": "code",
   "execution_count": 23,
   "id": "144f4265883ca1ee",
   "metadata": {
    "ExecuteTime": {
     "end_time": "2024-09-18T10:30:15.499320Z",
     "start_time": "2024-09-18T10:30:15.492940Z"
    }
   },
   "outputs": [],
   "source": [
    "# Стандартизация данных\n",
    "scaler = StandardScaler()\n",
    "scaled_data = scaler.fit_transform(data_clean[['Research', 'Talent', 'Development', 'AI Influence']])\n",
    "\n",
    "# Преобразуем данные обратно в DataFrame\n",
    "scaled_df = pd.DataFrame(scaled_data, columns=['Research', 'Talent', 'Development', 'AI Influence'])"
   ]
  },
  {
   "cell_type": "markdown",
   "id": "66fb9e73e27d7eb6",
   "metadata": {},
   "source": [
    "### 5. Применение K-means\n",
    "Теперь применим метод K-means для кластеризации данных."
   ]
  },
  {
   "cell_type": "code",
   "execution_count": 32,
   "id": "bd286ef974f4e537",
   "metadata": {
    "ExecuteTime": {
     "end_time": "2024-09-18T10:38:11.708742Z",
     "start_time": "2024-09-18T10:38:11.691624Z"
    }
   },
   "outputs": [
    {
     "data": {
      "text/html": [
       "<div>\n",
       "<style scoped>\n",
       "    .dataframe tbody tr th:only-of-type {\n",
       "        vertical-align: middle;\n",
       "    }\n",
       "\n",
       "    .dataframe tbody tr th {\n",
       "        vertical-align: top;\n",
       "    }\n",
       "\n",
       "    .dataframe thead th {\n",
       "        text-align: right;\n",
       "    }\n",
       "</style>\n",
       "<table border=\"1\" class=\"dataframe\">\n",
       "  <thead>\n",
       "    <tr style=\"text-align: right;\">\n",
       "      <th></th>\n",
       "      <th>Country</th>\n",
       "      <th>Talent</th>\n",
       "      <th>Infrastructure</th>\n",
       "      <th>Operating Environment</th>\n",
       "      <th>Research</th>\n",
       "      <th>Development</th>\n",
       "      <th>Government Strategy</th>\n",
       "      <th>Commercial</th>\n",
       "      <th>Total score</th>\n",
       "      <th>Region</th>\n",
       "      <th>Cluster</th>\n",
       "      <th>Income group</th>\n",
       "      <th>Political regime</th>\n",
       "      <th>AI Influence</th>\n",
       "    </tr>\n",
       "  </thead>\n",
       "  <tbody>\n",
       "    <tr>\n",
       "      <th>7</th>\n",
       "      <td>The Netherlands</td>\n",
       "      <td>33.83</td>\n",
       "      <td>81.99</td>\n",
       "      <td>88.05</td>\n",
       "      <td>25.54</td>\n",
       "      <td>30.17</td>\n",
       "      <td>62.35</td>\n",
       "      <td>4.97</td>\n",
       "      <td>36.35</td>\n",
       "      <td>Europe</td>\n",
       "      <td>2</td>\n",
       "      <td>High</td>\n",
       "      <td>Liberal democracy</td>\n",
       "      <td>29.846667</td>\n",
       "    </tr>\n",
       "    <tr>\n",
       "      <th>8</th>\n",
       "      <td>Germany</td>\n",
       "      <td>27.63</td>\n",
       "      <td>77.22</td>\n",
       "      <td>70.22</td>\n",
       "      <td>35.84</td>\n",
       "      <td>24.79</td>\n",
       "      <td>84.65</td>\n",
       "      <td>8.29</td>\n",
       "      <td>36.04</td>\n",
       "      <td>Europe</td>\n",
       "      <td>2</td>\n",
       "      <td>High</td>\n",
       "      <td>Liberal democracy</td>\n",
       "      <td>29.420000</td>\n",
       "    </tr>\n",
       "    <tr>\n",
       "      <th>9</th>\n",
       "      <td>France</td>\n",
       "      <td>28.32</td>\n",
       "      <td>77.15</td>\n",
       "      <td>80.02</td>\n",
       "      <td>25.48</td>\n",
       "      <td>21.44</td>\n",
       "      <td>91.20</td>\n",
       "      <td>7.65</td>\n",
       "      <td>34.42</td>\n",
       "      <td>Europe</td>\n",
       "      <td>2</td>\n",
       "      <td>High</td>\n",
       "      <td>Liberal democracy</td>\n",
       "      <td>25.080000</td>\n",
       "    </tr>\n",
       "    <tr>\n",
       "      <th>10</th>\n",
       "      <td>Australia</td>\n",
       "      <td>25.43</td>\n",
       "      <td>63.43</td>\n",
       "      <td>61.23</td>\n",
       "      <td>32.63</td>\n",
       "      <td>41.15</td>\n",
       "      <td>82.11</td>\n",
       "      <td>6.72</td>\n",
       "      <td>33.86</td>\n",
       "      <td>Asia-Pacific</td>\n",
       "      <td>2</td>\n",
       "      <td>High</td>\n",
       "      <td>Liberal democracy</td>\n",
       "      <td>33.070000</td>\n",
       "    </tr>\n",
       "    <tr>\n",
       "      <th>11</th>\n",
       "      <td>Ireland</td>\n",
       "      <td>29.93</td>\n",
       "      <td>89.50</td>\n",
       "      <td>70.15</td>\n",
       "      <td>16.79</td>\n",
       "      <td>30.85</td>\n",
       "      <td>69.44</td>\n",
       "      <td>3.94</td>\n",
       "      <td>33.04</td>\n",
       "      <td>Europe</td>\n",
       "      <td>2</td>\n",
       "      <td>High</td>\n",
       "      <td>Liberal democracy</td>\n",
       "      <td>25.856667</td>\n",
       "    </tr>\n",
       "  </tbody>\n",
       "</table>\n",
       "</div>"
      ],
      "text/plain": [
       "            Country  Talent  Infrastructure  Operating Environment  Research  \\\n",
       "7   The Netherlands   33.83           81.99                  88.05     25.54   \n",
       "8           Germany   27.63           77.22                  70.22     35.84   \n",
       "9            France   28.32           77.15                  80.02     25.48   \n",
       "10        Australia   25.43           63.43                  61.23     32.63   \n",
       "11          Ireland   29.93           89.50                  70.15     16.79   \n",
       "\n",
       "    Development  Government Strategy  Commercial  Total score        Region  \\\n",
       "7         30.17                62.35        4.97        36.35        Europe   \n",
       "8         24.79                84.65        8.29        36.04        Europe   \n",
       "9         21.44                91.20        7.65        34.42        Europe   \n",
       "10        41.15                82.11        6.72        33.86  Asia-Pacific   \n",
       "11        30.85                69.44        3.94        33.04        Europe   \n",
       "\n",
       "    Cluster Income group   Political regime  AI Influence  \n",
       "7         2         High  Liberal democracy     29.846667  \n",
       "8         2         High  Liberal democracy     29.420000  \n",
       "9         2         High  Liberal democracy     25.080000  \n",
       "10        2         High  Liberal democracy     33.070000  \n",
       "11        2         High  Liberal democracy     25.856667  "
      ]
     },
     "execution_count": 32,
     "metadata": {},
     "output_type": "execute_result"
    }
   ],
   "source": [
    "# Определим количество кластеров, например, 3\n",
    "kmeans = KMeans(n_clusters=3, random_state=42)\n",
    "data_clean.loc[:, 'Cluster'] = kmeans.fit_predict(scaled_df)\n",
    "\n",
    "data_clean.head()"
   ]
  },
  {
   "cell_type": "markdown",
   "id": "9d9ae4da920eb21e",
   "metadata": {},
   "source": [
    "### 6. Визуализация кластеров\n",
    "Построим несколько графиков рассеивания, чтобы визуально оценить, как данные разделены на кластеры."
   ]
  },
  {
   "cell_type": "code",
   "execution_count": 33,
   "id": "2828e19b50bd49b6",
   "metadata": {
    "ExecuteTime": {
     "end_time": "2024-09-18T10:38:16.552711Z",
     "start_time": "2024-09-18T10:38:16.278414Z"
    }
   },
   "outputs": [
    {
     "data": {
      "image/png": "[encoded data removed]",
      "text/plain": [
       "<Figure size 1000x600 with 1 Axes>"
      ]
     },
     "metadata": {},
     "output_type": "display_data"
    },
    {
     "data": {
      "image/png": "[encoded data removed]",
      "text/plain": [
       "<Figure size 1000x600 with 1 Axes>"
      ]
     },
     "metadata": {},
     "output_type": "display_data"
    }
   ],
   "source": [
    "plt.figure(figsize=(10,6))\n",
    "sns.scatterplot(data=data_clean, x='Research', y='Talent', hue='Cluster', palette='viridis')\n",
    "plt.title('Кластеры по параметрам Research и Talent')\n",
    "plt.show()\n",
    "\n",
    "plt.figure(figsize=(10,6))\n",
    "sns.scatterplot(data=data_clean, x='AI Influence', y='Development', hue='Cluster', palette='coolwarm')\n",
    "plt.title('Кластеры по параметрам AI Influence и Development')\n",
    "plt.show()"
   ]
  },
  {
   "cell_type": "markdown",
   "id": "a00cd520a980e846",
   "metadata": {},
   "source": [
    "### 7. Оценка качества кластеризации\n",
    "Используем показатель инерции (inertia) и метод локтя (Elbow Method) для оценки оптимального количества кластеров."
   ]
  },
  {
   "cell_type": "code",
   "execution_count": 34,
   "id": "2840455208b830e8",
   "metadata": {
    "ExecuteTime": {
     "end_time": "2024-09-18T10:38:21.762037Z",
     "start_time": "2024-09-18T10:38:21.590084Z"
    }
   },
   "outputs": [
    {
     "data": {
      "image/png": "[encoded data removed]",
      "text/plain": [
       "<Figure size 800x600 with 1 Axes>"
      ]
     },
     "metadata": {},
     "output_type": "display_data"
    }
   ],
   "source": [
    "# Метод локтя для выбора оптимального числа кластеров\n",
    "inertia = []\n",
    "K = range(1, 10)\n",
    "for k in K:\n",
    "    kmeans = KMeans(n_clusters=k, random_state=42)\n",
    "    kmeans.fit(scaled_df)\n",
    "    inertia.append(kmeans.inertia_)\n",
    "\n",
    "plt.figure(figsize=(8, 6))\n",
    "plt.plot(K, inertia, 'bo-')\n",
    "plt.xlabel('Число кластеров')\n",
    "plt.ylabel('Inertia')\n",
    "plt.title('Метод локтя для определения оптимального числа кластеров')\n",
    "plt.show()"
   ]
  }
 ],
 "metadata": {
  "kernelspec": {
   "display_name": ".venv",
   "language": "python",
   "name": "python3"
  },
  "language_info": {
   "codemirror_mode": {
    "name": "ipython",
    "version": 3
   },
   "file_extension": ".py",
   "mimetype": "text/x-python",
   "name": "python",
   "nbconvert_exporter": "python",
   "pygments_lexer": "ipython3",
   "version": "3.12.3"
  }
 },
 "nbformat": 4,
 "nbformat_minor": 5
}
